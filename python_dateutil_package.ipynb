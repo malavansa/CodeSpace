{
 "cells": [
  {
   "cell_type": "markdown",
   "metadata": {},
   "source": [
    "## **Python dateutil package**\n",
    "\n",
    "`dateutil` is not a part of the Python standard library but rather a third-party library commonly used for parsing and manipulating dates and times in Python. The `dateutil` library, short for \"date utilities,\" simplifies working with date and time data by providing functions and classes for parsing, formatting, and performing various operations on dates and times.\n",
    "\n",
    "You can install the `dateutil` library using pip:\n",
    "\n",
    "```bash\n",
    "pip install python-dateutil\n",
    "```\n",
    "\n",
    "Here are some of the key features and functionalities of the `dateutil` library:\n",
    "\n",
    "1. **Date and Time Parsing**:\n",
    "   - `dateutil.parser`: This module provides a flexible date and time parsing function that can handle a wide range of date and time formats. It can automatically detect the format of the input and convert it into a `datetime` object.\n",
    "\n",
    "   ```python\n",
    "   from dateutil import parser\n",
    "\n",
    "   date_string = \"2023-10-11T14:30:00\"\n",
    "   parsed_datetime = parser.parse(date_string)\n",
    "   ```\n",
    "\n",
    "2. **Date Arithmetic**:\n",
    "   - `dateutil.relativedelta`: This module allows you to perform date arithmetic with ease, such as adding or subtracting specific time intervals (e.g., days, months, years) from a date.\n",
    "\n",
    "   ```python\n",
    "   from dateutil.relativedelta import relativedelta\n",
    "\n",
    "   today = datetime.date.today()\n",
    "   one_month_later = today + relativedelta(months=1)\n",
    "   ```\n",
    "\n",
    "3. **Time Zone Handling**:\n",
    "   - `dateutil.tz`: The `dateutil` library can work with time zones, including those with daylight saving time. It provides classes for handling time zone conversions and representing time zone objects.\n",
    "\n",
    "   ```python\n",
    "   from dateutil import tz\n",
    "\n",
    "   eastern = tz.gettz('US/Eastern')\n",
    "   utc = tz.UTC\n",
    "   ```\n",
    "\n",
    "4. **Date Formatting**:\n",
    "   - `dateutil.parser` also supports formatting `datetime` objects to strings with specific formats.\n",
    "\n",
    "   ```python\n",
    "   formatted_date = parsed_datetime.strftime('%Y-%m-%d %H:%M:%S')\n",
    "   ```\n",
    "\n",
    "5. **Human-Readable Date Differences**:\n",
    "   - The `dateutil` library allows you to calculate and display human-readable differences between two dates or times, such as \"2 hours ago\" or \"3 days from now.\"\n",
    "\n",
    "   ```python\n",
    "   from dateutil import relativedelta\n",
    "\n",
    "   now = datetime.datetime.now()\n",
    "   future_time = now + relativedelta.relativedelta(hours=3)\n",
    "\n",
    "   difference = relativedelta.relativedelta(future_time, now)\n",
    "   ```\n",
    "\n",
    "6. **Day of the Week Calculation**:\n",
    "   - `dateutil.rrule`: The `dateutil` library supports the generation of recurring dates, such as dates that fall on specific weekdays.\n",
    "\n",
    "   ```python\n",
    "   from dateutil import rrule\n",
    "\n",
    "   every_monday = rrule.rrule(\n",
    "       rrule.WEEKLY,\n",
    "       byweekday=rrule.MO,\n",
    "       dtstart=datetime.date(2023, 1, 1),\n",
    "       until=datetime.date(2023, 12, 31)\n",
    "   )\n",
    "   ```\n",
    "\n",
    "The `dateutil` library is a versatile tool for handling date and time-related operations in Python. It simplifies many common tasks and is particularly useful when you need to work with a variety of date and time formats and perform calculations involving dates and times."
   ]
  },
  {
   "cell_type": "code",
   "execution_count": 5,
   "metadata": {},
   "outputs": [
    {
     "name": "stdout",
     "output_type": "stream",
     "text": [
      "relativedelta(hours=+3)\n"
     ]
    }
   ],
   "source": [
    "from dateutil.relativedelta import relativedelta\n",
    "from datetime import datetime\n",
    "\n",
    "now = datetime.now()\n",
    "future_time = now + relativedelta(hours=3)\n",
    "difference =relativedelta(future_time, now)\n",
    "print(difference)"
   ]
  }
 ],
 "metadata": {
  "kernelspec": {
   "display_name": "Python 3",
   "language": "python",
   "name": "python3"
  },
  "language_info": {
   "codemirror_mode": {
    "name": "ipython",
    "version": 3
   },
   "file_extension": ".py",
   "mimetype": "text/x-python",
   "name": "python",
   "nbconvert_exporter": "python",
   "pygments_lexer": "ipython3",
   "version": "3.10.8"
  }
 },
 "nbformat": 4,
 "nbformat_minor": 2
}
