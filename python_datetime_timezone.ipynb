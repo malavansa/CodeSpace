{
 "cells": [
  {
   "cell_type": "markdown",
   "metadata": {},
   "source": [
    "## handling date and time\n",
    "\n",
    "Handling time and date in Python can be done using the built-in `datetime` module, which provides various classes and functions for working with dates, times, and time intervals. Here are some common tasks and examples of how to handle time and date in Python:\n",
    "\n",
    "1. **Import the `datetime` Module**:\n",
    "\n",
    "   To get started, you need to import the `datetime` module:\n",
    "\n",
    "   ```python\n",
    "   from datetime import datetime, date, time, timedelta\n",
    "   ```\n",
    "\n",
    "2. **Current Date and Time**:\n",
    "\n",
    "   To get the current date and time, use the `datetime.now()` method:\n",
    "\n",
    "   ```python\n",
    "   now = datetime.now()\n",
    "   print(\"Current date and time:\", now)\n",
    "   ```\n",
    "\n",
    "3. **Working with Dates**:\n",
    "\n",
    "   You can create date objects and perform operations with them:\n",
    "\n",
    "   ```python\n",
    "   # Create a date object\n",
    "   d = date(2023, 4, 15)\n",
    "\n",
    "   # Get the current date\n",
    "   today = date.today()\n",
    "\n",
    "   # Calculate the difference between two dates\n",
    "   delta = d - today\n",
    "\n",
    "   print(\"Selected date:\", d)\n",
    "   print(\"Today's date:\", today)\n",
    "   print(\"Date difference:\", delta)\n",
    "   ```\n",
    "\n",
    "4. **Working with Times**:\n",
    "\n",
    "   You can create time objects and perform operations with them:\n",
    "\n",
    "   ```python\n",
    "   # Create a time object\n",
    "   t = time(14, 30, 0)\n",
    "\n",
    "   print(\"Selected time:\", t)\n",
    "   ```\n",
    "\n",
    "5. **Formatting Dates and Times**:\n",
    "\n",
    "   You can format dates and times as strings using the `strftime` method:\n",
    "\n",
    "   ```python\n",
    "   formatted_date = today.strftime(\"%Y-%m-%d\")\n",
    "   formatted_time = now.strftime(\"%H:%M:%S\")\n",
    "\n",
    "   print(\"Formatted date:\", formatted_date)\n",
    "   print(\"Formatted time:\", formatted_time)\n",
    "   ```\n",
    "\n",
    "6. **Parsing Dates and Times**:\n",
    "\n",
    "   You can parse date and time strings into `datetime` objects using the `strptime` method:\n",
    "\n",
    "   ```python\n",
    "   date_string = \"2023-04-15\"\n",
    "   parsed_date = datetime.strptime(date_string, \"%Y-%m-%d\")\n",
    "\n",
    "   time_string = \"14:30:00\"\n",
    "   parsed_time = datetime.strptime(time_string, \"%H:%M:%S\")\n",
    "\n",
    "   print(\"Parsed date:\", parsed_date)\n",
    "   print(\"Parsed time:\", parsed_time)\n",
    "   ```\n",
    "\n",
    "7. **Arithmetic with Dates and Times**:\n",
    "\n",
    "   You can perform arithmetic operations with dates and times:\n",
    "\n",
    "   ```python\n",
    "   # Calculate a future date\n",
    "   future_date = today + timedelta(days=30)\n",
    "\n",
    "   # Calculate a time duration\n",
    "   duration = now - datetime(2023, 4, 1, 10, 0, 0)\n",
    "\n",
    "   print(\"Future date:\", future_date)\n",
    "   print(\"Time duration:\", duration)\n",
    "   ```\n",
    "\n",
    "8. **Time Zones**:\n",
    "\n",
    "   To work with time zones, consider using third-party libraries like `pytz` to handle time zone-aware `datetime` objects.\n",
    "\n",
    "Remember that the `datetime` module provides extensive functionality for working with dates and times. You can perform various operations, calculate differences, and format date and time values to suit your specific needs."
   ]
  },
  {
   "cell_type": "markdown",
   "metadata": {},
   "source": [
    "## working with timezone\n",
    "\n",
    "To add a time zone to a `datetime` object in Python, you can use the `pytz` library, which provides functionality for working with time zones. Here are the steps to add a time zone to a `datetime` object:\n",
    "\n",
    "1. **Install the `pytz` Library**:\n",
    "\n",
    "   If you haven't already installed the `pytz` library, you can do so using pip:\n",
    "\n",
    "   ```\n",
    "   pip install pytz\n",
    "   ```\n",
    "\n",
    "2. **Import the `pytz` Library and Create a `datetime` Object**:\n",
    "\n",
    "   Import the `pytz` library and create a `datetime` object without a time zone:\n",
    "\n",
    "   ```python\n",
    "   from datetime import datetime\n",
    "   import pytz\n",
    "\n",
    "   dt = datetime(2023, 10, 11, 15, 30, 0)\n",
    "   ```\n",
    "\n",
    "3. **Assign a Time Zone to the `datetime` Object**:\n",
    "\n",
    "   You can assign a time zone to the `datetime` object using the `pytz.timezone()` function. There are many available time zones to choose from, such as 'US/Eastern,' 'Europe/London,' or 'UTC.' Here's an example of assigning the 'US/Eastern' time zone:\n",
    "\n",
    "   ```python\n",
    "   eastern = pytz.timezone('US/Eastern')\n",
    "   dt_eastern = eastern.localize(dt)\n",
    "   ```\n",
    "\n",
    "4. **Convert to Other Time Zones**:\n",
    "\n",
    "   Once you have assigned a time zone to the `datetime` object, you can easily convert it to other time zones if needed. For example, to convert the time to 'Europe/London':\n",
    "\n",
    "   ```python\n",
    "   london = pytz.timezone('Europe/London')\n",
    "   dt_london = dt_eastern.astimezone(london)\n",
    "   ```\n",
    "\n",
    "Now, `dt_eastern` represents the same moment in time as `dt`, but it is associated with the 'US/Eastern' time zone, and `dt_london` represents the time in the 'Europe/London' time zone.\n",
    "\n",
    "Be sure to choose the appropriate time zone for your application and consider using time zone-aware `datetime` objects when working with time-related data, especially in scenarios where time zones are significant, such as scheduling events or handling international time data."
   ]
  },
  {
   "cell_type": "markdown",
   "metadata": {},
   "source": [
    "### excellent resource for finding timezones:\n",
    "https://countrycode.org/"
   ]
  },
  {
   "cell_type": "code",
   "execution_count": 24,
   "metadata": {},
   "outputs": [],
   "source": [
    "from datetime import date, time, datetime, timedelta"
   ]
  },
  {
   "cell_type": "code",
   "execution_count": 11,
   "metadata": {},
   "outputs": [
    {
     "name": "stdout",
     "output_type": "stream",
     "text": [
      "2023-10-12 14:30:20-04:56\n",
      "<class 'datetime.datetime'>\n",
      "2023-10-12 20:26:20+01:00\n"
     ]
    }
   ],
   "source": [
    "import pytz\n",
    "event_date = datetime(2023,10, 12,14, 30, 20, tzinfo=pytz.timezone('US/Eastern'))\n",
    "print(event_date)\n",
    "print(type(event_date))\n",
    "print(event_date.astimezone(tz=pytz.timezone('Europe/London')))\n"
   ]
  },
  {
   "cell_type": "code",
   "execution_count": 12,
   "metadata": {},
   "outputs": [
    {
     "name": "stdout",
     "output_type": "stream",
     "text": [
      "2023-11-11 11:11:30+00:00\n"
     ]
    }
   ],
   "source": [
    "event = datetime(2023, 11, 11, 11, 11,30)\n",
    "utc = pytz.UTC\n",
    "sri_lankan = pytz.all_timezones\n",
    "print(utc.localize(event))"
   ]
  },
  {
   "cell_type": "code",
   "execution_count": 13,
   "metadata": {},
   "outputs": [
    {
     "data": {
      "text/plain": [
       "['America/New_York', 'Asia/Colombo']"
      ]
     },
     "execution_count": 13,
     "metadata": {},
     "output_type": "execute_result"
    }
   ],
   "source": [
    "[t for t in pytz.all_timezones if 'colombo' in t.lower() or 'new_york' in t.lower()]"
   ]
  },
  {
   "cell_type": "code",
   "execution_count": 14,
   "metadata": {},
   "outputs": [
    {
     "name": "stdout",
     "output_type": "stream",
     "text": [
      "['Asia/Colombo']\n",
      "['Asia/Kolkata']\n",
      "['Europe/London']\n",
      "['Asia/Riyadh']\n",
      "['Asia/Tokyo']\n",
      "['Asia/Karachi']\n"
     ]
    }
   ],
   "source": [
    "for country_code in ['LK', 'IN', 'GB', 'SA', 'JP', 'PK']:\n",
    "    print(pytz.country_timezones(country_code))"
   ]
  },
  {
   "cell_type": "code",
   "execution_count": 15,
   "metadata": {},
   "outputs": [
    {
     "name": "stdout",
     "output_type": "stream",
     "text": [
      "GB\n",
      "IN\n",
      "JP\n",
      "LK\n",
      "PK\n",
      "SA\n"
     ]
    }
   ],
   "source": [
    "for i in pytz.country_names:\n",
    "    if i in ['LK', 'IN', 'GB', 'SA', 'JP', 'PK', 'UK']:\n",
    "        print(i)"
   ]
  },
  {
   "cell_type": "code",
   "execution_count": 16,
   "metadata": {},
   "outputs": [
    {
     "name": "stdout",
     "output_type": "stream",
     "text": [
      "2023-11-11 11:11:30+05:30\n",
      "2023-11-11 00:41:30-05:00\n"
     ]
    }
   ],
   "source": [
    "colombo = pytz.timezone('Asia/Colombo')\n",
    "colombo.localize(event).astimezone(pytz.timezone('America/New_York'))\n",
    "print(colombo.localize(event))\n",
    "print(colombo.localize(event).astimezone(pytz.timezone('America/New_York')))"
   ]
  },
  {
   "cell_type": "code",
   "execution_count": 2,
   "metadata": {},
   "outputs": [],
   "source": [
    "from datetime import timezone"
   ]
  },
  {
   "cell_type": "code",
   "execution_count": 44,
   "metadata": {},
   "outputs": [
    {
     "data": {
      "text/plain": [
       "datetime.timedelta(seconds=28800)"
      ]
     },
     "execution_count": 44,
     "metadata": {},
     "output_type": "execute_result"
    }
   ],
   "source": [
    "timezone(timedelta(hours=8), name='vavuniya').utcoffset(datetime(2023, 12, 14))"
   ]
  },
  {
   "cell_type": "code",
   "execution_count": 47,
   "metadata": {},
   "outputs": [
    {
     "data": {
      "text/plain": [
       "datetime.timezone(datetime.timedelta(seconds=28800), 'vavuniya')"
      ]
     },
     "execution_count": 47,
     "metadata": {},
     "output_type": "execute_result"
    }
   ],
   "source": [
    "# we can create custom timezone and add this timezone to datetime objects  \n",
    "timezone(timedelta(hours=8), name='vavuniya')"
   ]
  },
  {
   "cell_type": "code",
   "execution_count": 40,
   "metadata": {},
   "outputs": [
    {
     "name": "stdout",
     "output_type": "stream",
     "text": [
      "2023-12-13 12:34:40+08:00\n"
     ]
    }
   ],
   "source": [
    "another_date = datetime(2023, 12, 13, 12, 34, 40, tzinfo=timezone(timedelta(hours=8), name='vavuniya'))\n",
    "print(another_date)"
   ]
  },
  {
   "cell_type": "code",
   "execution_count": 50,
   "metadata": {},
   "outputs": [
    {
     "data": {
      "text/plain": [
       "'vavuniya'"
      ]
     },
     "execution_count": 50,
     "metadata": {},
     "output_type": "execute_result"
    }
   ],
   "source": [
    "timezone(timedelta(hours=8), name='vavuniya').tzname(None)"
   ]
  },
  {
   "cell_type": "code",
   "execution_count": 7,
   "metadata": {},
   "outputs": [
    {
     "name": "stdout",
     "output_type": "stream",
     "text": [
      "['astimezone', 'combine', 'ctime', 'date', 'day', 'dst', 'fold',\n",
      " 'fromisocalendar', 'fromisoformat', 'fromordinal', 'fromtimestamp', 'hour',\n",
      " 'isocalendar', 'isoformat', 'isoweekday', 'max', 'microsecond', 'min',\n",
      " 'minute', 'month', 'now', 'replace', 'resolution', 'second', 'strftime',\n",
      " 'strptime', 'time', 'timestamp', 'timetuple', 'timetz', 'today', 'toordinal',\n",
      " 'tzinfo', 'tzname', 'utcfromtimestamp', 'utcnow', 'utcoffset', 'utctimetuple',\n",
      " 'weekday', 'year']\n"
     ]
    }
   ],
   "source": [
    "from datetime import datetime\n",
    "from pprint import pprint\n",
    "\n",
    "pprint([method for method in dir(datetime) if method.lower() and not method.startswith('__')], compact=True)"
   ]
  },
  {
   "cell_type": "code",
   "execution_count": 27,
   "metadata": {},
   "outputs": [
    {
     "name": "stdout",
     "output_type": "stream",
     "text": [
      "1986-04-20T19:15:20\n",
      "datetime.IsoCalendarDate(year=1986, week=16, weekday=7)\n",
      "None\n",
      "6\n",
      "time.struct_time(tm_year=1986, tm_mon=4, tm_mday=20, tm_hour=19, tm_min=15, tm_sec=20, tm_wday=6, tm_yday=110, tm_isdst=0)\n",
      "2023-10-11 15:20:46.927248\n",
      "None\n",
      "1986-04-20\n",
      "19:15:20\n",
      "20\n"
     ]
    }
   ],
   "source": [
    "birthday = datetime(1986, 4, 20, 19, 15, 20)\n",
    "\n",
    "print(birthday.isoformat())\n",
    "print(birthday.isocalendar())\n",
    "print(birthday.utcoffset())\n",
    "print(birthday.weekday())\n",
    "print(birthday.utctimetuple())\n",
    "print(datetime.utcnow())\n",
    "print(birthday.tzname())\n",
    "print(birthday.date())\n",
    "print(birthday.time())\n"
   ]
  },
  {
   "cell_type": "code",
   "execution_count": 45,
   "metadata": {},
   "outputs": [
    {
     "name": "stdout",
     "output_type": "stream",
     "text": [
      "20\n",
      "1986\n",
      "4\n",
      "19\n",
      "15\n",
      "20\n",
      "0\n",
      "0001-01-01 00:00:00\n",
      "9999-12-31 23:59:59.999999\n",
      "6\n"
     ]
    }
   ],
   "source": [
    "print(birthday.day)\n",
    "print(birthday.year)\n",
    "print(birthday.month)\n",
    "print(birthday.hour)\n",
    "print(birthday.minute)\n",
    "print(birthday.second)\n",
    "print(birthday.microsecond)\n",
    "print(birthday.min)\n",
    "print(birthday.max)\n",
    "print(birthday.weekday())\n",
    "\n"
   ]
  },
  {
   "cell_type": "code",
   "execution_count": 33,
   "metadata": {},
   "outputs": [
    {
     "data": {
      "text/plain": [
       "datetime.timedelta(days=2913255, seconds=11132, microseconds=31533)"
      ]
     },
     "execution_count": 33,
     "metadata": {},
     "output_type": "execute_result"
    }
   ],
   "source": [
    "d = datetime.max - datetime.now()\n",
    "d"
   ]
  },
  {
   "cell_type": "code",
   "execution_count": 43,
   "metadata": {},
   "outputs": [
    {
     "name": "stdout",
     "output_type": "stream",
     "text": [
      "0:00:00.000001\n",
      "Sun Apr 20 19:15:20 1986\n",
      "725116\n"
     ]
    }
   ],
   "source": [
    "print(birthday.resolution)\n",
    "print(birthday.ctime())\n",
    "print(birthday.toordinal())"
   ]
  },
  {
   "cell_type": "code",
   "execution_count": 44,
   "metadata": {},
   "outputs": [
    {
     "name": "stdout",
     "output_type": "stream",
     "text": [
      "Help on built-in function toordinal:\n",
      "\n",
      "toordinal(...) method of datetime.datetime instance\n",
      "    Return proleptic Gregorian ordinal.  January 1 of year 1 is day 1.\n",
      "\n"
     ]
    }
   ],
   "source": [
    "help(birthday.toordinal)"
   ]
  },
  {
   "cell_type": "code",
   "execution_count": 41,
   "metadata": {},
   "outputs": [
    {
     "data": {
      "text/plain": [
       "datetime.datetime(2020, 10, 20, 20, 30, 45)"
      ]
     },
     "execution_count": 41,
     "metadata": {},
     "output_type": "execute_result"
    }
   ],
   "source": [
    "from datetime import time\n",
    "datetime.combine(datetime(2020,10,20),time(20,30,45))"
   ]
  }
 ],
 "metadata": {
  "kernelspec": {
   "display_name": "Python 3",
   "language": "python",
   "name": "python3"
  },
  "language_info": {
   "codemirror_mode": {
    "name": "ipython",
    "version": 3
   },
   "file_extension": ".py",
   "mimetype": "text/x-python",
   "name": "python",
   "nbconvert_exporter": "python",
   "pygments_lexer": "ipython3",
   "version": "3.10.8"
  }
 },
 "nbformat": 4,
 "nbformat_minor": 2
}
