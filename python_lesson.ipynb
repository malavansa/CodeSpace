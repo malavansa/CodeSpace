{
 "cells": [
  {
   "cell_type": "code",
   "execution_count": 38,
   "metadata": {},
   "outputs": [
    {
     "name": "stdout",
     "output_type": "stream",
     "text": [
      "     April 1990\n",
      "Mo Tu We Th Fr Sa Su\n",
      "                   1\n",
      " 2  3  4  5  6  7  8\n",
      " 9 10 11 12 13 14 15\n",
      "16 17 18 19 20 21 22\n",
      "23 24 25 26 27 28 29\n",
      "30\n",
      "\n",
      "    October 2023\n",
      "Mo Tu We Th Fr Sa Su\n",
      "                   1\n",
      " 2  3  4  5  6  7  8\n",
      " 9 10 11 12 13 14 15\n",
      "16 17 18 19 20 21 22\n",
      "23 24 25 26 27 28 29\n",
      "30 31\n",
      "\n"
     ]
    }
   ],
   "source": [
    "# create calender\n",
    "\n",
    "from calendar import month\n",
    "from datetime import datetime\n",
    "\n",
    "today = datetime.now()\n",
    "x, y = today.year, today.month\n",
    "\n",
    "print(month(theyear=1990, themonth=4))\n",
    "print(month(theyear=x, themonth=y))  # add comments\n"
   ]
  },
  {
   "cell_type": "code",
   "execution_count": 37,
   "metadata": {},
   "outputs": [
    {
     "name": "stdout",
     "output_type": "stream",
     "text": [
      "Time taken for string concatenation:  0.07877616699988721\n",
      "Time taken for list join concatenation:  0.04356654199727927\n",
      "Faster percentage compared to raw string concatenation: 45.00%\n"
     ]
    }
   ],
   "source": [
    "import timeit\n",
    "\n",
    "# text = \"welcome\"\n",
    "# for i in range(10):\n",
    "#     text += text\n",
    "#     print(id(text))\n",
    "\n",
    "# text = \"welcome\"\n",
    "# L = []\n",
    "# for x in range(10):\n",
    "#     L.append(text)\n",
    "#     print(id(L))\n",
    "\n",
    "\n",
    "# print(L)\n",
    "# print(','.join(L))\n",
    "\n",
    "def string_concat_raw():\n",
    "    text = 'good'\n",
    "    for i in range(10):\n",
    "        text += text\n",
    "\n",
    "\n",
    "def string_concat_list():\n",
    "    text = 'good'\n",
    "    text_link = []\n",
    "    for j in range(10):\n",
    "        text_link.append(text)\n",
    "    ','.join(text_link)\n",
    "\n",
    "\n",
    "time_str_concat = timeit.timeit(stmt=string_concat_raw, number=100000)\n",
    "time_join_concat = timeit.timeit(stmt=string_concat_list, number=100000)\n",
    "\n",
    "print(\"Time taken for string concatenation: \", time_str_concat)\n",
    "print(\"Time taken for list join concatenation: \", time_join_concat)\n",
    "\n",
    "faster = round((1 - time_join_concat/time_str_concat), 2)\n",
    "\n",
    "print(f\"Faster percentage compared to raw string concatenation: {faster:.2%}\")"
   ]
  },
  {
   "cell_type": "code",
   "execution_count": null,
   "metadata": {},
   "outputs": [],
   "source": [
    "x = 9\n",
    "print(x)\n",
    "print(id(x))\n",
    "x = 10\n",
    "print(x)\n",
    "print(id(x))\n",
    "print(x)"
   ]
  },
  {
   "cell_type": "code",
   "execution_count": null,
   "metadata": {},
   "outputs": [],
   "source": [
    "# counting characters in text\n",
    "\n",
    "text = \"djkdhkajkhaaahdaaabbbnnddhhe\"\n",
    "\n",
    "s = {}\n",
    "\n",
    "for x in text:    \n",
    "    \n",
    "    if x in s:\n",
    "        s[x] = s[x] + 1\n",
    "    else:\n",
    "        s[x] = 1"
   ]
  },
  {
   "cell_type": "code",
   "execution_count": 2,
   "metadata": {},
   "outputs": [
    {
     "name": "stdout",
     "output_type": "stream",
     "text": [
      "Counter({'a': 7, 'd': 5, 'h': 5, 'k': 3, 'b': 3, 'j': 2, 'n': 2, 'e': 1})\n",
      "[('a', 7), ('d', 5), ('h', 5)]\n"
     ]
    }
   ],
   "source": [
    "from collections import Counter\n",
    "\n",
    "text = \"djkdhkajkhaaahdaaabbbnnddhhe\"\n",
    "\n",
    "c = Counter(text)\n",
    "\n",
    "print(c)\n",
    "\n",
    "print(c.most_common(3))"
   ]
  }
 ],
 "metadata": {
  "kernelspec": {
   "display_name": "Python 3",
   "language": "python",
   "name": "python3"
  },
  "language_info": {
   "codemirror_mode": {
    "name": "ipython",
    "version": 3
   },
   "file_extension": ".py",
   "mimetype": "text/x-python",
   "name": "python",
   "nbconvert_exporter": "python",
   "pygments_lexer": "ipython3",
   "version": "3.10.8"
  },
  "orig_nbformat": 4
 },
 "nbformat": 4,
 "nbformat_minor": 2
}
